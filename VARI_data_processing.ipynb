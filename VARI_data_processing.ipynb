{
  "nbformat": 4,
  "nbformat_minor": 0,
  "metadata": {
    "colab": {
      "provenance": []
    },
    "kernelspec": {
      "name": "python3",
      "display_name": "Python 3"
    },
    "language_info": {
      "name": "python"
    }
  },
  "cells": [
    {
      "cell_type": "code",
      "source": [
        "import cv2\n",
        "import os\n",
        "import random\n",
        "import re\n",
        "import matplotlib.pylab as plt\n",
        "from glob import glob\n",
        "import pandas as pd\n",
        "import numpy as np\n",
        "from sklearn.model_selection import train_test_split"
      ],
      "metadata": {
        "id": "ZnI7ktBOi9Cc"
      },
      "execution_count": null,
      "outputs": []
    },
    {
      "cell_type": "code",
      "source": [
        "def numericalSort(value):\n",
        "      numbers = re.compile(r'(\\d+)')\n",
        "      parts = numbers.split(value)\n",
        "      parts[1::2] = map(int, parts[1::2])\n",
        "      return parts"
      ],
      "metadata": {
        "id": "oEyBpsXl4H1A"
      },
      "execution_count": null,
      "outputs": []
    },
    {
      "cell_type": "code",
      "source": [
        "PATH = os.path.abspath(os.path.join('drive/MyDrive/Colab Notebooks'))\n",
        "\n",
        "for date in [\"9_20\"]:\n",
        "\n",
        "  SOURCE_IMAGES = os.path.join(PATH, f\"splitted rgb tif image {date}\")\n",
        "  # ../input/sample/images/*.png\n",
        "  images = glob(os.path.join(SOURCE_IMAGES, \"*.TIF\"))\n",
        "  #labels = pd.read_csv('../Frontiers/labels.csv')\n",
        "  fitsf=sorted(images, key=numericalSort)\n",
        "  images = fitsf\n",
        "\n",
        "  for WIDTH, HEIGHT in [(32, 32), (64, 64), (128, 128)]:\n",
        "  # save the image in a dataframe\n",
        "    x = []\n",
        "    for img in images:\n",
        "      full_size_image = cv2.imread(img)\n",
        "      x.append(cv2.resize(full_size_image, (WIDTH, HEIGHT), interpolation = cv2.INTER_CUBIC))\n",
        "    df = pd.DataFrame()\n",
        "    df[\"images\"]=x\n",
        "    # change the data format\n",
        "    twri_rgb_dataset_lbb = np.zeros((len(df.images), WIDTH, HEIGHT, 3)) # defult was 32,32,3\n",
        "    for i in range(len(df.images)):\n",
        "      twri_rgb_dataset_lbb[i] = df.images[i]\n",
        "    # save the data in .npy\n",
        "    np.save(f'twri_rgb_6832_cotton_{WIDTH}x{HEIGHT}_{date}.npy', twri_rgb_dataset_lbb)\n"
      ],
      "metadata": {
        "id": "tt_bSanvi-9M"
      },
      "execution_count": null,
      "outputs": []
    },
    {
      "cell_type": "code",
      "source": [],
      "metadata": {
        "id": "elF6gwyEjiYB"
      },
      "execution_count": null,
      "outputs": []
    },
    {
      "cell_type": "code",
      "source": [],
      "metadata": {
        "id": "ZQZOAxzs1AMn"
      },
      "execution_count": null,
      "outputs": []
    }
  ]
}